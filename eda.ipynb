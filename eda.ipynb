{
 "cells": [
  {
   "cell_type": "code",
   "execution_count": 52,
   "id": "385f7020",
   "metadata": {},
   "outputs": [],
   "source": [
    "import os\n",
    "import glob\n",
    "import pandas as pd\n",
    "import matplotlib.pyplot as plt\n",
    "import numpy as np\n",
    "import random\n",
    "from datetime import datetime, timedelta\n",
    "from dateutil.relativedelta import relativedelta\n"
   ]
  },
  {
   "cell_type": "code",
   "execution_count": 77,
   "id": "f5844dd4",
   "metadata": {},
   "outputs": [],
   "source": [
    "import pprint\n",
    "import pyspark\n",
    "import pyspark.sql.functions as F\n",
    "from pyspark.sql.functions import col\n",
    "from pyspark.sql.types import StringType, IntegerType, FloatType, DateType\n",
    "\n",
    "import utils.bronze_layer\n",
    "import utils.silver_layer\n",
    "import utils.gold_layer"
   ]
  },
  {
   "cell_type": "markdown",
   "id": "d8d570d5",
   "metadata": {},
   "source": [
    "Set up Spark Session"
   ]
  },
  {
   "cell_type": "code",
   "execution_count": 101,
   "id": "e61dd675",
   "metadata": {},
   "outputs": [
    {
     "name": "stdout",
     "output_type": "stream",
     "text": [
      "Spark session created successfully!\n",
      "Spark version: 4.0.1\n"
     ]
    }
   ],
   "source": [
    "from pyspark.sql import SparkSession\n",
    "\n",
    "spark = SparkSession.builder \\\n",
    "      .appName(\"Loan Default EDA\") \\\n",
    "      .master(\"local[*]\") \\\n",
    "      .config(\"spark.driver.host\", \"127.0.0.1\") \\\n",
    "      .getOrCreate()\n",
    "\n",
    "spark.sparkContext.setLogLevel(\"ERROR\")\n",
    "print(\"Spark session created successfully!\")\n",
    "print(f\"Spark version: {spark.version}\")\n",
    "\n"
   ]
  },
  {
   "cell_type": "markdown",
   "id": "514031f0",
   "metadata": {},
   "source": [
    "Loading dataset"
   ]
  },
  {
   "cell_type": "code",
   "execution_count": 55,
   "id": "dc8fc15e",
   "metadata": {},
   "outputs": [
    {
     "name": "stdout",
     "output_type": "stream",
     "text": [
      "data loaded\n"
     ]
    }
   ],
   "source": [
    "# Load Clickstream\n",
    "df_clickstream=spark.read.option(\"header\",\"true\").option(\"inferSchema\",\"true\").csv(\"data/feature_clickstream.csv\")\n",
    "\n",
    "# Load attributes\n",
    "df_attributes = spark.read.option(\"header\",\"true\").option(\"inferSchema\",\"true\").csv(\"data/features_attributes.csv\")\n",
    "\n",
    "# Load financials\n",
    "df_financials = spark.read.option(\"header\",\"true\").option(\"inferSchema\",\"true\").csv(\"data/features_financials.csv\")\n",
    "\n",
    "# Load loan data\n",
    "df_loans= spark.read.option(\"header\",\"true\").option(\"inferSchema\",\"true\").csv(\"data/lms_loan_daily.csv\")\n",
    "\n",
    "print(\"data loaded\")"
   ]
  },
  {
   "cell_type": "markdown",
   "id": "f2c50199",
   "metadata": {},
   "source": [
    "General feature exploration"
   ]
  },
  {
   "cell_type": "code",
   "execution_count": 56,
   "id": "985cf082",
   "metadata": {},
   "outputs": [
    {
     "name": "stdout",
     "output_type": "stream",
     "text": [
      "-- Clickstream data--\n",
      "root\n",
      " |-- fe_1: integer (nullable = true)\n",
      " |-- fe_2: integer (nullable = true)\n",
      " |-- fe_3: integer (nullable = true)\n",
      " |-- fe_4: integer (nullable = true)\n",
      " |-- fe_5: integer (nullable = true)\n",
      " |-- fe_6: integer (nullable = true)\n",
      " |-- fe_7: integer (nullable = true)\n",
      " |-- fe_8: integer (nullable = true)\n",
      " |-- fe_9: integer (nullable = true)\n",
      " |-- fe_10: integer (nullable = true)\n",
      " |-- fe_11: integer (nullable = true)\n",
      " |-- fe_12: integer (nullable = true)\n",
      " |-- fe_13: integer (nullable = true)\n",
      " |-- fe_14: integer (nullable = true)\n",
      " |-- fe_15: integer (nullable = true)\n",
      " |-- fe_16: integer (nullable = true)\n",
      " |-- fe_17: integer (nullable = true)\n",
      " |-- fe_18: integer (nullable = true)\n",
      " |-- fe_19: integer (nullable = true)\n",
      " |-- fe_20: integer (nullable = true)\n",
      " |-- Customer_ID: string (nullable = true)\n",
      " |-- snapshot_date: date (nullable = true)\n",
      "\n",
      "None\n",
      "22\n",
      "['fe_1', 'fe_2', 'fe_3', 'fe_4', 'fe_5', 'fe_6', 'fe_7', 'fe_8', 'fe_9', 'fe_10', 'fe_11', 'fe_12', 'fe_13', 'fe_14', 'fe_15', 'fe_16', 'fe_17', 'fe_18', 'fe_19', 'fe_20', 'Customer_ID', 'snapshot_date']\n"
     ]
    }
   ],
   "source": [
    "print(\"-- Clickstream data--\")\n",
    "\n",
    "print(df_clickstream.printSchema())\n",
    "print(len(df_clickstream.columns))\n",
    "print(df_clickstream.columns)"
   ]
  },
  {
   "cell_type": "code",
   "execution_count": 57,
   "id": "2437f973",
   "metadata": {},
   "outputs": [
    {
     "name": "stdout",
     "output_type": "stream",
     "text": [
      "-- Attributes data--\n",
      "root\n",
      " |-- Customer_ID: string (nullable = true)\n",
      " |-- Name: string (nullable = true)\n",
      " |-- Age: string (nullable = true)\n",
      " |-- SSN: string (nullable = true)\n",
      " |-- Occupation: string (nullable = true)\n",
      " |-- snapshot_date: date (nullable = true)\n",
      "\n",
      "None\n",
      "6\n",
      "['Customer_ID', 'Name', 'Age', 'SSN', 'Occupation', 'snapshot_date']\n"
     ]
    }
   ],
   "source": [
    "print(\"-- Attributes data--\")\n",
    "\n",
    "print(df_attributes.printSchema())\n",
    "print(len(df_attributes.columns))\n",
    "print(df_attributes.columns)"
   ]
  },
  {
   "cell_type": "code",
   "execution_count": 58,
   "id": "2143dac4",
   "metadata": {},
   "outputs": [
    {
     "name": "stdout",
     "output_type": "stream",
     "text": [
      "-- Finance Data--\n",
      "root\n",
      " |-- Customer_ID: string (nullable = true)\n",
      " |-- Annual_Income: string (nullable = true)\n",
      " |-- Monthly_Inhand_Salary: double (nullable = true)\n",
      " |-- Num_Bank_Accounts: integer (nullable = true)\n",
      " |-- Num_Credit_Card: integer (nullable = true)\n",
      " |-- Interest_Rate: integer (nullable = true)\n",
      " |-- Num_of_Loan: string (nullable = true)\n",
      " |-- Type_of_Loan: string (nullable = true)\n",
      " |-- Delay_from_due_date: integer (nullable = true)\n",
      " |-- Num_of_Delayed_Payment: string (nullable = true)\n",
      " |-- Changed_Credit_Limit: string (nullable = true)\n",
      " |-- Num_Credit_Inquiries: double (nullable = true)\n",
      " |-- Credit_Mix: string (nullable = true)\n",
      " |-- Outstanding_Debt: string (nullable = true)\n",
      " |-- Credit_Utilization_Ratio: double (nullable = true)\n",
      " |-- Credit_History_Age: string (nullable = true)\n",
      " |-- Payment_of_Min_Amount: string (nullable = true)\n",
      " |-- Total_EMI_per_month: double (nullable = true)\n",
      " |-- Amount_invested_monthly: string (nullable = true)\n",
      " |-- Payment_Behaviour: string (nullable = true)\n",
      " |-- Monthly_Balance: string (nullable = true)\n",
      " |-- snapshot_date: date (nullable = true)\n",
      "\n",
      "None\n",
      "22\n",
      "['Customer_ID', 'Annual_Income', 'Monthly_Inhand_Salary', 'Num_Bank_Accounts', 'Num_Credit_Card', 'Interest_Rate', 'Num_of_Loan', 'Type_of_Loan', 'Delay_from_due_date', 'Num_of_Delayed_Payment', 'Changed_Credit_Limit', 'Num_Credit_Inquiries', 'Credit_Mix', 'Outstanding_Debt', 'Credit_Utilization_Ratio', 'Credit_History_Age', 'Payment_of_Min_Amount', 'Total_EMI_per_month', 'Amount_invested_monthly', 'Payment_Behaviour', 'Monthly_Balance', 'snapshot_date']\n"
     ]
    }
   ],
   "source": [
    "print(\"-- Finance Data--\")\n",
    "\n",
    "print(df_financials.printSchema())\n",
    "print(len(df_financials.columns))\n",
    "print(df_financials.columns)"
   ]
  },
  {
   "cell_type": "code",
   "execution_count": 59,
   "id": "a0339d62",
   "metadata": {},
   "outputs": [
    {
     "name": "stdout",
     "output_type": "stream",
     "text": [
      "-- Loan Data--\n",
      "root\n",
      " |-- loan_id: string (nullable = true)\n",
      " |-- Customer_ID: string (nullable = true)\n",
      " |-- loan_start_date: date (nullable = true)\n",
      " |-- tenure: integer (nullable = true)\n",
      " |-- installment_num: integer (nullable = true)\n",
      " |-- loan_amt: integer (nullable = true)\n",
      " |-- due_amt: double (nullable = true)\n",
      " |-- paid_amt: double (nullable = true)\n",
      " |-- overdue_amt: double (nullable = true)\n",
      " |-- balance: double (nullable = true)\n",
      " |-- snapshot_date: date (nullable = true)\n",
      "\n",
      "None\n",
      "11\n",
      "['loan_id', 'Customer_ID', 'loan_start_date', 'tenure', 'installment_num', 'loan_amt', 'due_amt', 'paid_amt', 'overdue_amt', 'balance', 'snapshot_date']\n"
     ]
    }
   ],
   "source": [
    "print(\"-- Loan Data--\")\n",
    "\n",
    "print(df_loans.printSchema())\n",
    "print(len(df_loans.columns))\n",
    "print(df_loans.columns)"
   ]
  },
  {
   "cell_type": "markdown",
   "id": "de3dec6a",
   "metadata": {},
   "source": [
    "Setup Config\n"
   ]
  },
  {
   "cell_type": "code",
   "execution_count": 60,
   "id": "9e0a81bb",
   "metadata": {},
   "outputs": [],
   "source": [
    "snapshot_date_str='2023-01-01'\n",
    "\n",
    "start_date_str='2023-01-01'\n",
    "end_date_str='2025-01-01'"
   ]
  },
  {
   "cell_type": "code",
   "execution_count": 61,
   "id": "c4c0acd4",
   "metadata": {},
   "outputs": [
    {
     "name": "stdout",
     "output_type": "stream",
     "text": [
      "['2023-01-01', '2023-02-01', '2023-03-01', '2023-04-01', '2023-05-01', '2023-06-01', '2023-07-01', '2023-08-01', '2023-09-01', '2023-10-01', '2023-11-01', '2023-12-01', '2024-01-01', '2024-02-01', '2024-03-01', '2024-04-01', '2024-05-01', '2024-06-01', '2024-07-01', '2024-08-01', '2024-09-01', '2024-10-01', '2024-11-01', '2024-12-01', '2025-01-01']\n"
     ]
    }
   ],
   "source": [
    "# generate list of dates to process\n",
    "def generate_first_of_month_dates(start_date_str, end_date_str):\n",
    "    # Convert the date strings to datetime objects\n",
    "    start_date = datetime.strptime(start_date_str, \"%Y-%m-%d\")\n",
    "    end_date = datetime.strptime(end_date_str, \"%Y-%m-%d\")\n",
    "    \n",
    "    # List to store the first of month dates\n",
    "    first_of_month_dates = []\n",
    "\n",
    "    # Start from the first of the month of the start_date\n",
    "    current_date = datetime(start_date.year, start_date.month, 1)\n",
    "\n",
    "    while current_date <= end_date:\n",
    "        # Append the date in yyyy-mm-dd format\n",
    "        first_of_month_dates.append(current_date.strftime(\"%Y-%m-%d\"))\n",
    "        \n",
    "        # Move to the first of the next month\n",
    "        if current_date.month == 12:\n",
    "            current_date = datetime(current_date.year + 1, 1, 1)\n",
    "        else:\n",
    "            current_date = datetime(current_date.year, current_date.month + 1, 1)\n",
    "\n",
    "    return first_of_month_dates\n",
    "\n",
    "dates_str_lst = generate_first_of_month_dates(start_date_str, end_date_str)\n",
    "print(dates_str_lst)"
   ]
  },
  {
   "cell_type": "markdown",
   "id": "fe9d2a78",
   "metadata": {},
   "source": [
    "Build Bronze Table"
   ]
  },
  {
   "cell_type": "code",
   "execution_count": null,
   "id": "726bf8d8",
   "metadata": {},
   "outputs": [],
   "source": []
  },
  {
   "cell_type": "code",
   "execution_count": 62,
   "id": "6a6ec66f",
   "metadata": {},
   "outputs": [],
   "source": [
    "bronze_lms_directory='datamart/bronze/lms/'\n",
    "\n",
    "if not os.path.exists(bronze_lms_directory):\n",
    "    os.makedirs(bronze_lms_directory)"
   ]
  },
  {
   "cell_type": "code",
   "execution_count": 63,
   "id": "e013bdf2",
   "metadata": {},
   "outputs": [
    {
     "name": "stdout",
     "output_type": "stream",
     "text": [
      "2023-01-01row count: 8974\n",
      "saved to: datamart/bronze/lms/bronze_clickstream_daily_2023_01_01.csv\n",
      "2023-01-01row count: 530\n",
      "saved to: datamart/bronze/lms/bronze_attributes_daily_2023_01_01.csv\n",
      "2023-01-01row count: 530\n",
      "saved to: datamart/bronze/lms/bronze_financials_daily_2023_01_01.csv\n",
      "2023-01-01row count: 530\n",
      "saved to: datamart/bronze/lms/bronze_loan_daily_2023_01_01.csv\n",
      "2023-02-01row count: 8974\n",
      "saved to: datamart/bronze/lms/bronze_clickstream_daily_2023_02_01.csv\n",
      "2023-02-01row count: 501\n",
      "saved to: datamart/bronze/lms/bronze_attributes_daily_2023_02_01.csv\n",
      "2023-02-01row count: 501\n",
      "saved to: datamart/bronze/lms/bronze_financials_daily_2023_02_01.csv\n",
      "2023-02-01row count: 1031\n",
      "saved to: datamart/bronze/lms/bronze_loan_daily_2023_02_01.csv\n",
      "2023-03-01row count: 8974\n",
      "saved to: datamart/bronze/lms/bronze_clickstream_daily_2023_03_01.csv\n",
      "2023-03-01row count: 506\n",
      "saved to: datamart/bronze/lms/bronze_attributes_daily_2023_03_01.csv\n",
      "2023-03-01row count: 506\n",
      "saved to: datamart/bronze/lms/bronze_financials_daily_2023_03_01.csv\n",
      "2023-03-01row count: 1537\n",
      "saved to: datamart/bronze/lms/bronze_loan_daily_2023_03_01.csv\n",
      "2023-04-01row count: 8974\n",
      "saved to: datamart/bronze/lms/bronze_clickstream_daily_2023_04_01.csv\n",
      "2023-04-01row count: 510\n",
      "saved to: datamart/bronze/lms/bronze_attributes_daily_2023_04_01.csv\n",
      "2023-04-01row count: 510\n",
      "saved to: datamart/bronze/lms/bronze_financials_daily_2023_04_01.csv\n",
      "2023-04-01row count: 2047\n",
      "saved to: datamart/bronze/lms/bronze_loan_daily_2023_04_01.csv\n",
      "2023-05-01row count: 8974\n",
      "saved to: datamart/bronze/lms/bronze_clickstream_daily_2023_05_01.csv\n",
      "2023-05-01row count: 521\n",
      "saved to: datamart/bronze/lms/bronze_attributes_daily_2023_05_01.csv\n",
      "2023-05-01row count: 521\n",
      "saved to: datamart/bronze/lms/bronze_financials_daily_2023_05_01.csv\n",
      "2023-05-01row count: 2568\n",
      "saved to: datamart/bronze/lms/bronze_loan_daily_2023_05_01.csv\n",
      "2023-06-01row count: 8974\n",
      "saved to: datamart/bronze/lms/bronze_clickstream_daily_2023_06_01.csv\n",
      "2023-06-01row count: 517\n",
      "saved to: datamart/bronze/lms/bronze_attributes_daily_2023_06_01.csv\n",
      "2023-06-01row count: 517\n",
      "saved to: datamart/bronze/lms/bronze_financials_daily_2023_06_01.csv\n",
      "2023-06-01row count: 3085\n",
      "saved to: datamart/bronze/lms/bronze_loan_daily_2023_06_01.csv\n",
      "2023-07-01row count: 8974\n",
      "saved to: datamart/bronze/lms/bronze_clickstream_daily_2023_07_01.csv\n",
      "2023-07-01row count: 471\n",
      "saved to: datamart/bronze/lms/bronze_attributes_daily_2023_07_01.csv\n",
      "2023-07-01row count: 471\n",
      "saved to: datamart/bronze/lms/bronze_financials_daily_2023_07_01.csv\n",
      "2023-07-01row count: 3556\n",
      "saved to: datamart/bronze/lms/bronze_loan_daily_2023_07_01.csv\n",
      "2023-08-01row count: 8974\n",
      "saved to: datamart/bronze/lms/bronze_clickstream_daily_2023_08_01.csv\n",
      "2023-08-01row count: 481\n",
      "saved to: datamart/bronze/lms/bronze_attributes_daily_2023_08_01.csv\n",
      "2023-08-01row count: 481\n",
      "saved to: datamart/bronze/lms/bronze_financials_daily_2023_08_01.csv\n",
      "2023-08-01row count: 4037\n",
      "saved to: datamart/bronze/lms/bronze_loan_daily_2023_08_01.csv\n",
      "2023-09-01row count: 8974\n",
      "saved to: datamart/bronze/lms/bronze_clickstream_daily_2023_09_01.csv\n",
      "2023-09-01row count: 454\n",
      "saved to: datamart/bronze/lms/bronze_attributes_daily_2023_09_01.csv\n",
      "2023-09-01row count: 454\n",
      "saved to: datamart/bronze/lms/bronze_financials_daily_2023_09_01.csv\n",
      "2023-09-01row count: 4491\n",
      "saved to: datamart/bronze/lms/bronze_loan_daily_2023_09_01.csv\n",
      "2023-10-01row count: 8974\n",
      "saved to: datamart/bronze/lms/bronze_clickstream_daily_2023_10_01.csv\n",
      "2023-10-01row count: 487\n",
      "saved to: datamart/bronze/lms/bronze_attributes_daily_2023_10_01.csv\n",
      "2023-10-01row count: 487\n",
      "saved to: datamart/bronze/lms/bronze_financials_daily_2023_10_01.csv\n",
      "2023-10-01row count: 4978\n",
      "saved to: datamart/bronze/lms/bronze_loan_daily_2023_10_01.csv\n",
      "2023-11-01row count: 8974\n",
      "saved to: datamart/bronze/lms/bronze_clickstream_daily_2023_11_01.csv\n",
      "2023-11-01row count: 491\n",
      "saved to: datamart/bronze/lms/bronze_attributes_daily_2023_11_01.csv\n",
      "2023-11-01row count: 491\n",
      "saved to: datamart/bronze/lms/bronze_financials_daily_2023_11_01.csv\n",
      "2023-11-01row count: 5469\n",
      "saved to: datamart/bronze/lms/bronze_loan_daily_2023_11_01.csv\n",
      "2023-12-01row count: 8974\n",
      "saved to: datamart/bronze/lms/bronze_clickstream_daily_2023_12_01.csv\n",
      "2023-12-01row count: 489\n",
      "saved to: datamart/bronze/lms/bronze_attributes_daily_2023_12_01.csv\n",
      "2023-12-01row count: 489\n",
      "saved to: datamart/bronze/lms/bronze_financials_daily_2023_12_01.csv\n",
      "2023-12-01row count: 5428\n",
      "saved to: datamart/bronze/lms/bronze_loan_daily_2023_12_01.csv\n",
      "2024-01-01row count: 8974\n",
      "saved to: datamart/bronze/lms/bronze_clickstream_daily_2024_01_01.csv\n",
      "2024-01-01row count: 485\n",
      "saved to: datamart/bronze/lms/bronze_attributes_daily_2024_01_01.csv\n",
      "2024-01-01row count: 485\n",
      "saved to: datamart/bronze/lms/bronze_financials_daily_2024_01_01.csv\n",
      "2024-01-01row count: 5412\n",
      "saved to: datamart/bronze/lms/bronze_loan_daily_2024_01_01.csv\n",
      "2024-02-01row count: 8974\n",
      "saved to: datamart/bronze/lms/bronze_clickstream_daily_2024_02_01.csv\n",
      "2024-02-01row count: 518\n",
      "saved to: datamart/bronze/lms/bronze_attributes_daily_2024_02_01.csv\n",
      "2024-02-01row count: 518\n",
      "saved to: datamart/bronze/lms/bronze_financials_daily_2024_02_01.csv\n",
      "2024-02-01row count: 5424\n",
      "saved to: datamart/bronze/lms/bronze_loan_daily_2024_02_01.csv\n",
      "2024-03-01row count: 8974\n",
      "saved to: datamart/bronze/lms/bronze_clickstream_daily_2024_03_01.csv\n",
      "2024-03-01row count: 511\n",
      "saved to: datamart/bronze/lms/bronze_attributes_daily_2024_03_01.csv\n",
      "2024-03-01row count: 511\n",
      "saved to: datamart/bronze/lms/bronze_financials_daily_2024_03_01.csv\n",
      "2024-03-01row count: 5425\n",
      "saved to: datamart/bronze/lms/bronze_loan_daily_2024_03_01.csv\n",
      "2024-04-01row count: 8974\n",
      "saved to: datamart/bronze/lms/bronze_clickstream_daily_2024_04_01.csv\n",
      "2024-04-01row count: 513\n",
      "saved to: datamart/bronze/lms/bronze_attributes_daily_2024_04_01.csv\n",
      "2024-04-01row count: 513\n",
      "saved to: datamart/bronze/lms/bronze_financials_daily_2024_04_01.csv\n",
      "2024-04-01row count: 5417\n",
      "saved to: datamart/bronze/lms/bronze_loan_daily_2024_04_01.csv\n",
      "2024-05-01row count: 8974\n",
      "saved to: datamart/bronze/lms/bronze_clickstream_daily_2024_05_01.csv\n",
      "2024-05-01row count: 491\n",
      "saved to: datamart/bronze/lms/bronze_attributes_daily_2024_05_01.csv\n",
      "2024-05-01row count: 491\n",
      "saved to: datamart/bronze/lms/bronze_financials_daily_2024_05_01.csv\n",
      "2024-05-01row count: 5391\n",
      "saved to: datamart/bronze/lms/bronze_loan_daily_2024_05_01.csv\n",
      "2024-06-01row count: 8974\n",
      "saved to: datamart/bronze/lms/bronze_clickstream_daily_2024_06_01.csv\n",
      "2024-06-01row count: 498\n",
      "saved to: datamart/bronze/lms/bronze_attributes_daily_2024_06_01.csv\n",
      "2024-06-01row count: 498\n",
      "saved to: datamart/bronze/lms/bronze_financials_daily_2024_06_01.csv\n",
      "2024-06-01row count: 5418\n",
      "saved to: datamart/bronze/lms/bronze_loan_daily_2024_06_01.csv\n",
      "2024-07-01row count: 8974\n",
      "saved to: datamart/bronze/lms/bronze_clickstream_daily_2024_07_01.csv\n",
      "2024-07-01row count: 505\n",
      "saved to: datamart/bronze/lms/bronze_attributes_daily_2024_07_01.csv\n",
      "2024-07-01row count: 505\n",
      "saved to: datamart/bronze/lms/bronze_financials_daily_2024_07_01.csv\n",
      "2024-07-01row count: 5442\n",
      "saved to: datamart/bronze/lms/bronze_loan_daily_2024_07_01.csv\n",
      "2024-08-01row count: 8974\n",
      "saved to: datamart/bronze/lms/bronze_clickstream_daily_2024_08_01.csv\n",
      "2024-08-01row count: 543\n",
      "saved to: datamart/bronze/lms/bronze_attributes_daily_2024_08_01.csv\n",
      "2024-08-01row count: 543\n",
      "saved to: datamart/bronze/lms/bronze_financials_daily_2024_08_01.csv\n",
      "2024-08-01row count: 5531\n",
      "saved to: datamart/bronze/lms/bronze_loan_daily_2024_08_01.csv\n",
      "2024-09-01row count: 8974\n",
      "saved to: datamart/bronze/lms/bronze_clickstream_daily_2024_09_01.csv\n",
      "2024-09-01row count: 493\n",
      "saved to: datamart/bronze/lms/bronze_attributes_daily_2024_09_01.csv\n",
      "2024-09-01row count: 493\n",
      "saved to: datamart/bronze/lms/bronze_financials_daily_2024_09_01.csv\n",
      "2024-09-01row count: 5537\n",
      "saved to: datamart/bronze/lms/bronze_loan_daily_2024_09_01.csv\n",
      "2024-10-01row count: 8974\n",
      "saved to: datamart/bronze/lms/bronze_clickstream_daily_2024_10_01.csv\n",
      "2024-10-01row count: 456\n",
      "saved to: datamart/bronze/lms/bronze_attributes_daily_2024_10_01.csv\n",
      "2024-10-01row count: 456\n",
      "saved to: datamart/bronze/lms/bronze_financials_daily_2024_10_01.csv\n",
      "2024-10-01row count: 5502\n",
      "saved to: datamart/bronze/lms/bronze_loan_daily_2024_10_01.csv\n",
      "2024-11-01row count: 8974\n",
      "saved to: datamart/bronze/lms/bronze_clickstream_daily_2024_11_01.csv\n",
      "2024-11-01row count: 488\n",
      "saved to: datamart/bronze/lms/bronze_attributes_daily_2024_11_01.csv\n",
      "2024-11-01row count: 488\n",
      "saved to: datamart/bronze/lms/bronze_financials_daily_2024_11_01.csv\n",
      "2024-11-01row count: 5501\n",
      "saved to: datamart/bronze/lms/bronze_loan_daily_2024_11_01.csv\n",
      "2024-12-01row count: 8974\n",
      "saved to: datamart/bronze/lms/bronze_clickstream_daily_2024_12_01.csv\n",
      "2024-12-01row count: 515\n",
      "saved to: datamart/bronze/lms/bronze_attributes_daily_2024_12_01.csv\n",
      "2024-12-01row count: 515\n",
      "saved to: datamart/bronze/lms/bronze_financials_daily_2024_12_01.csv\n",
      "2024-12-01row count: 5531\n",
      "saved to: datamart/bronze/lms/bronze_loan_daily_2024_12_01.csv\n",
      "2025-01-01row count: 0\n",
      "saved to: datamart/bronze/lms/bronze_clickstream_daily_2025_01_01.csv\n",
      "2025-01-01row count: 526\n",
      "saved to: datamart/bronze/lms/bronze_attributes_daily_2025_01_01.csv\n",
      "2025-01-01row count: 526\n",
      "saved to: datamart/bronze/lms/bronze_financials_daily_2025_01_01.csv\n",
      "2025-01-01row count: 5539\n",
      "saved to: datamart/bronze/lms/bronze_loan_daily_2025_01_01.csv\n"
     ]
    }
   ],
   "source": [
    "for date_str in dates_str_lst:\n",
    "    utils.bronze_layer.process_bronze_clickstream(date_str,bronze_lms_directory,spark)\n",
    "    utils.bronze_layer.process_bronze_attributes(date_str,bronze_lms_directory,spark)\n",
    "    utils.bronze_layer.process_bronze_financials(date_str,bronze_lms_directory,spark)\n",
    "    utils.bronze_layer.process_bronze_loan(date_str,bronze_lms_directory,spark)"
   ]
  },
  {
   "cell_type": "markdown",
   "id": "f038554f",
   "metadata": {},
   "source": [
    "Process Silver layer"
   ]
  },
  {
   "cell_type": "markdown",
   "id": "11f6bc30",
   "metadata": {},
   "source": [
    "Attributes Table EDA"
   ]
  },
  {
   "cell_type": "code",
   "execution_count": 64,
   "id": "e30308ba",
   "metadata": {},
   "outputs": [],
   "source": [
    "from pyspark.sql.functions import col, sum as spark_sum, when"
   ]
  },
  {
   "cell_type": "code",
   "execution_count": 65,
   "id": "eac06320",
   "metadata": {},
   "outputs": [
    {
     "name": "stdout",
     "output_type": "stream",
     "text": [
      "Customer_ID         : 0 missing\n",
      "Name                : 0 missing\n",
      "Age                 : 0 missing\n",
      "SSN                 : 0 missing\n",
      "Occupation          : 880 missing\n",
      "snapshot_date       : 0 missing\n",
      "\n",
      "Total rows: 12500\n"
     ]
    }
   ],
   "source": [
    "#check missing value\n",
    "missing_counts = []\n",
    "\n",
    "for c in df_attributes.columns:\n",
    "    # Get the data type of the column\n",
    "    col_type = dict(df_attributes.dtypes)[c]\n",
    "\n",
    "    if col_type in ['date', 'timestamp']:\n",
    "        # For date columns, only check for nulls\n",
    "        missing_count = df_attributes.filter(col(c).isNull()).count()\n",
    "    else:\n",
    "        # For other columns, check nulls, empty strings, and underscores\n",
    "        missing_count = df_attributes.filter(\n",
    "            col(c).isNull() |\n",
    "            (col(c) == \"\") |\n",
    "            col(c).rlike(\"^_+$\")\n",
    "        ).count()\n",
    "\n",
    "    missing_counts.append((c, missing_count))\n",
    "    print(f\"{c:20s}: {missing_count} missing\")\n",
    "\n",
    "total_rows = df_attributes.count()\n",
    "print(f\"\\nTotal rows: {total_rows}\")"
   ]
  },
  {
   "cell_type": "code",
   "execution_count": 66,
   "id": "b554ffd4",
   "metadata": {},
   "outputs": [
    {
     "name": "stdout",
     "output_type": "stream",
     "text": [
      "non numeric age: 11759\n",
      "Non-numeric Age values:\n",
      "+-----+\n",
      "|  Age|\n",
      "+-----+\n",
      "|  31_|\n",
      "|  22_|\n",
      "|  37_|\n",
      "|  54_|\n",
      "|6408_|\n",
      "|2329_|\n",
      "|  41_|\n",
      "|  38_|\n",
      "|  19_|\n",
      "|3843_|\n",
      "|  52_|\n",
      "|  25_|\n",
      "|  46_|\n",
      "|3834_|\n",
      "|  47_|\n",
      "|  24_|\n",
      "|  30_|\n",
      "|  51_|\n",
      "|  50_|\n",
      "|  16_|\n",
      "+-----+\n",
      "only showing top 20 rows\n"
     ]
    }
   ],
   "source": [
    "#check nonnumeric age\n",
    "non_numeric_count = df_attributes.filter(~col('Age').rlike(\"[^0-9]\")).count()\n",
    "print('non numeric age:',non_numeric_count)\n",
    "\n",
    "#Show the non-numeric values\n",
    "non_numeric = df_attributes.filter(~col('Age').rlike(\"^[0-9]+$\"))\n",
    "print(\"Non-numeric Age values:\")\n",
    "non_numeric.select(\"Age\").distinct().show()\n"
   ]
  },
  {
   "cell_type": "code",
   "execution_count": 67,
   "id": "805dd34a",
   "metadata": {},
   "outputs": [
    {
     "name": "stdout",
     "output_type": "stream",
     "text": [
      "+-------------+\n",
      "|Occupation   |\n",
      "+-------------+\n",
      "|Scientist    |\n",
      "|Media_Manager|\n",
      "|Musician     |\n",
      "|Lawyer       |\n",
      "|Teacher      |\n",
      "|Developer    |\n",
      "|Writer       |\n",
      "|Architect    |\n",
      "|Mechanic     |\n",
      "|Entrepreneur |\n",
      "|Journalist   |\n",
      "|Doctor       |\n",
      "|Engineer     |\n",
      "|Accountant   |\n",
      "|Manager      |\n",
      "|_______      |\n",
      "+-------------+\n",
      "\n",
      "Number of unique occupations: 16\n",
      "+-------------+-----+\n",
      "|Occupation   |count|\n",
      "+-------------+-----+\n",
      "|_______      |880  |\n",
      "|Lawyer       |828  |\n",
      "|Architect    |795  |\n",
      "|Engineer     |793  |\n",
      "|Accountant   |791  |\n",
      "|Scientist    |789  |\n",
      "|Teacher      |782  |\n",
      "|Media_Manager|780  |\n",
      "|Developer    |780  |\n",
      "|Mechanic     |780  |\n",
      "|Entrepreneur |776  |\n",
      "|Journalist   |761  |\n",
      "|Doctor       |760  |\n",
      "|Musician     |741  |\n",
      "|Manager      |736  |\n",
      "|Writer       |728  |\n",
      "+-------------+-----+\n",
      "\n"
     ]
    }
   ],
   "source": [
    "# Show unique occupations\n",
    "df_attributes.select(\"Occupation\").distinct().show(50, False)\n",
    "\n",
    "# Count of unique occupations\n",
    "print(f\"Number of unique occupations: {df_attributes.select('Occupation').distinct().count()}\")\n",
    "\n",
    "# Value counts for occupations\n",
    "df_attributes.groupBy(\"Occupation\").count().orderBy(\"count\", ascending=False).show(20,False)"
   ]
  },
  {
   "cell_type": "markdown",
   "id": "6a2f7eec",
   "metadata": {},
   "source": [
    "Check clickstream data"
   ]
  },
  {
   "cell_type": "code",
   "execution_count": 68,
   "id": "6ae5040e",
   "metadata": {},
   "outputs": [
    {
     "name": "stdout",
     "output_type": "stream",
     "text": [
      "Clickstream Rows: 215,376\n",
      "Clickstream Columns: 22\n",
      "root\n",
      " |-- fe_1: integer (nullable = true)\n",
      " |-- fe_2: integer (nullable = true)\n",
      " |-- fe_3: integer (nullable = true)\n",
      " |-- fe_4: integer (nullable = true)\n",
      " |-- fe_5: integer (nullable = true)\n",
      " |-- fe_6: integer (nullable = true)\n",
      " |-- fe_7: integer (nullable = true)\n",
      " |-- fe_8: integer (nullable = true)\n",
      " |-- fe_9: integer (nullable = true)\n",
      " |-- fe_10: integer (nullable = true)\n",
      " |-- fe_11: integer (nullable = true)\n",
      " |-- fe_12: integer (nullable = true)\n",
      " |-- fe_13: integer (nullable = true)\n",
      " |-- fe_14: integer (nullable = true)\n",
      " |-- fe_15: integer (nullable = true)\n",
      " |-- fe_16: integer (nullable = true)\n",
      " |-- fe_17: integer (nullable = true)\n",
      " |-- fe_18: integer (nullable = true)\n",
      " |-- fe_19: integer (nullable = true)\n",
      " |-- fe_20: integer (nullable = true)\n",
      " |-- Customer_ID: string (nullable = true)\n",
      " |-- snapshot_date: date (nullable = true)\n",
      "\n"
     ]
    }
   ],
   "source": [
    "#schema\n",
    "print(f\"Clickstream Rows: {df_clickstream.count():,}\")\n",
    "print(f\"Clickstream Columns: {len(df_clickstream.columns)}\")\n",
    "df_clickstream.printSchema()"
   ]
  },
  {
   "cell_type": "code",
   "execution_count": 69,
   "id": "576e4f0a",
   "metadata": {},
   "outputs": [
    {
     "name": "stdout",
     "output_type": "stream",
     "text": [
      "+--------+--------+--------+--------+--------+\n",
      "|min_fe_1|min_fe_2|min_fe_3|min_fe_4|min_fe_5|\n",
      "+--------+--------+--------+--------+--------+\n",
      "|    -378|    -356|    -399|    -307|    -343|\n",
      "+--------+--------+--------+--------+--------+\n",
      "\n",
      "+--------+--------+--------+--------+--------+\n",
      "|max_fe_1|max_fe_2|max_fe_3|max_fe_4|max_fe_5|\n",
      "+--------+--------+--------+--------+--------+\n",
      "|     541|     560|     583|     562|     570|\n",
      "+--------+--------+--------+--------+--------+\n",
      "\n"
     ]
    }
   ],
   "source": [
    "\n",
    "# Check min/max values for all features\n",
    "from pyspark.sql.functions import min as spark_min, max as spark_max\n",
    "\n",
    "# Get summary stats for all fe_ columns\n",
    "feature_cols = [col for col in df_clickstream.columns if col.startswith('fe_')]\n",
    "df_clickstream.select([spark_min(col).alias(f\"min_{col}\") for col in\n",
    "feature_cols[:5]]).show()\n",
    "df_clickstream.select([spark_max(col).alias(f\"max_{col}\") for col in\n",
    "feature_cols[:5]]).show()"
   ]
  },
  {
   "cell_type": "code",
   "execution_count": 70,
   "id": "92badbf7",
   "metadata": {},
   "outputs": [
    {
     "name": "stdout",
     "output_type": "stream",
     "text": [
      "+----+----+----+----+----+----+----+----+----+-----+-----+-----+-----+-----+-----+-----+-----+-----+-----+-----+-----------+-------------+\n",
      "|fe_1|fe_2|fe_3|fe_4|fe_5|fe_6|fe_7|fe_8|fe_9|fe_10|fe_11|fe_12|fe_13|fe_14|fe_15|fe_16|fe_17|fe_18|fe_19|fe_20|Customer_ID|snapshot_date|\n",
      "+----+----+----+----+----+----+----+----+----+-----+-----+-----+-----+-----+-----+-----+-----+-----+-----+-----+-----------+-------------+\n",
      "|   0|   0|   0|   0|   0|   0|   0|   0|   0|    0|    0|    0|    0|    0|    0|    0|    0|    0|    0|    0|          0|            0|\n",
      "+----+----+----+----+----+----+----+----+----+-----+-----+-----+-----+-----+-----+-----+-----+-----+-----+-----+-----------+-------------+\n",
      "\n"
     ]
    }
   ],
   "source": [
    "#check missing value\n",
    "\n",
    "from pyspark.sql.functions import sum as spark_sum, when\n",
    "\n",
    "missing_summary = df_clickstream.select([\n",
    "    spark_sum(when(col(c).isNull(), 1).otherwise(0)).alias(c)\n",
    "    for c in df_clickstream.columns\n",
    "])\n",
    "missing_summary.show()"
   ]
  },
  {
   "cell_type": "code",
   "execution_count": 71,
   "id": "7796ff01",
   "metadata": {},
   "outputs": [
    {
     "name": "stdout",
     "output_type": "stream",
     "text": [
      "Unique customers: 8,974\n"
     ]
    }
   ],
   "source": [
    "#check customers\n",
    "unique_customers = df_clickstream.select(\"Customer_ID\").distinct().count()\n",
    "print(f\"Unique customers: {unique_customers:,}\")"
   ]
  },
  {
   "cell_type": "markdown",
   "id": "f8fef39c",
   "metadata": {},
   "source": [
    "Finance data"
   ]
  },
  {
   "cell_type": "code",
   "execution_count": 72,
   "id": "58afed36",
   "metadata": {},
   "outputs": [
    {
     "data": {
      "text/plain": [
       "['Customer_ID',\n",
       " 'Annual_Income',\n",
       " 'Monthly_Inhand_Salary',\n",
       " 'Num_Bank_Accounts',\n",
       " 'Num_Credit_Card',\n",
       " 'Interest_Rate',\n",
       " 'Num_of_Loan',\n",
       " 'Type_of_Loan',\n",
       " 'Delay_from_due_date',\n",
       " 'Num_of_Delayed_Payment',\n",
       " 'Changed_Credit_Limit',\n",
       " 'Num_Credit_Inquiries',\n",
       " 'Credit_Mix',\n",
       " 'Outstanding_Debt',\n",
       " 'Credit_Utilization_Ratio',\n",
       " 'Credit_History_Age',\n",
       " 'Payment_of_Min_Amount',\n",
       " 'Total_EMI_per_month',\n",
       " 'Amount_invested_monthly',\n",
       " 'Payment_Behaviour',\n",
       " 'Monthly_Balance',\n",
       " 'snapshot_date']"
      ]
     },
     "execution_count": 72,
     "metadata": {},
     "output_type": "execute_result"
    }
   ],
   "source": [
    "df_financials.columns"
   ]
  },
  {
   "cell_type": "code",
   "execution_count": 73,
   "id": "51d71c17",
   "metadata": {},
   "outputs": [
    {
     "name": "stdout",
     "output_type": "stream",
     "text": [
      "\n",
      "=== Annual_Income ===\n",
      "+-------+------------------+\n",
      "|summary|     Annual_Income|\n",
      "+-------+------------------+\n",
      "|  count|             12500|\n",
      "|   mean|165302.13805472082|\n",
      "| stddev| 1318317.705695486|\n",
      "|    min|        10003.495_|\n",
      "|    max|          99995.22|\n",
      "+-------+------------------+\n",
      "\n",
      "\n",
      "=== Monthly_Inhand_Salary ===\n",
      "+-------+---------------------+\n",
      "|summary|Monthly_Inhand_Salary|\n",
      "+-------+---------------------+\n",
      "|  count|                12500|\n",
      "|   mean|   4188.5923027131585|\n",
      "| stddev|   3180.1476109204173|\n",
      "|    min|    303.6454166666666|\n",
      "|    max|   15204.633333333331|\n",
      "+-------+---------------------+\n",
      "\n",
      "\n",
      "=== Num_Bank_Accounts ===\n",
      "+-------+------------------+\n",
      "|summary| Num_Bank_Accounts|\n",
      "+-------+------------------+\n",
      "|  count|             12500|\n",
      "|   mean|          16.93992|\n",
      "| stddev|114.35081529709485|\n",
      "|    min|                -1|\n",
      "|    max|              1756|\n",
      "+-------+------------------+\n",
      "\n",
      "\n",
      "=== Num_Credit_Card ===\n",
      "+-------+------------------+\n",
      "|summary|   Num_Credit_Card|\n",
      "+-------+------------------+\n",
      "|  count|             12500|\n",
      "|   mean|          23.17272|\n",
      "| stddev|132.00586642912222|\n",
      "|    min|                 0|\n",
      "|    max|              1499|\n",
      "+-------+------------------+\n",
      "\n",
      "\n",
      "=== Num_Credit_Inquiries ===\n",
      "+-------+--------------------+\n",
      "|summary|Num_Credit_Inquiries|\n",
      "+-------+--------------------+\n",
      "|  count|               12500|\n",
      "|   mean|            26.69528|\n",
      "| stddev|  184.19382871053074|\n",
      "|    min|                 0.0|\n",
      "|    max|              2554.0|\n",
      "+-------+--------------------+\n",
      "\n",
      "\n",
      "=== Interest_Rate ===\n",
      "+-------+------------------+\n",
      "|summary|     Interest_Rate|\n",
      "+-------+------------------+\n",
      "|  count|             12500|\n",
      "|   mean|          73.21336|\n",
      "| stddev|468.68222710052765|\n",
      "|    min|                 1|\n",
      "|    max|              5789|\n",
      "+-------+------------------+\n",
      "\n",
      "\n",
      "=== Outstanding_Debt ===\n",
      "+-------+------------------+\n",
      "|summary|  Outstanding_Debt|\n",
      "+-------+------------------+\n",
      "|  count|             12500|\n",
      "|   mean|1427.0757916026269|\n",
      "| stddev|  1155.35859669298|\n",
      "|    min|              0.23|\n",
      "|    max|            999.48|\n",
      "+-------+------------------+\n",
      "\n",
      "\n",
      "=== Credit_Utilization_Ratio ===\n",
      "+-------+------------------------+\n",
      "|summary|Credit_Utilization_Ratio|\n",
      "+-------+------------------------+\n",
      "|  count|                   12500|\n",
      "|   mean|       32.34926457800977|\n",
      "| stddev|       5.156815304530768|\n",
      "|    min|       20.10076996070649|\n",
      "|    max|       48.19982397892475|\n",
      "+-------+------------------------+\n",
      "\n",
      "\n",
      "=== Delay_from_due_date ===\n",
      "+-------+-------------------+\n",
      "|summary|Delay_from_due_date|\n",
      "+-------+-------------------+\n",
      "|  count|              12500|\n",
      "|   mean|           21.06088|\n",
      "| stddev| 14.863091419503656|\n",
      "|    min|                 -5|\n",
      "|    max|                 67|\n",
      "+-------+-------------------+\n",
      "\n",
      "\n",
      "=== Total_EMI_per_month ===\n",
      "+-------+-------------------+\n",
      "|summary|Total_EMI_per_month|\n",
      "+-------+-------------------+\n",
      "|  count|              12500|\n",
      "|   mean| 1488.3942909941488|\n",
      "| stddev|  8561.449910123256|\n",
      "|    min|                0.0|\n",
      "|    max|            81971.0|\n",
      "+-------+-------------------+\n",
      "\n"
     ]
    }
   ],
   "source": [
    "#identify outliers. \n",
    "\n",
    "# Check extreme values in key financial columns\n",
    "financial_cols = ['Annual_Income', 'Monthly_Inhand_Salary', 'Num_Bank_Accounts',\n",
    "                   'Num_Credit_Card', 'Num_Credit_Inquiries','Interest_Rate', 'Outstanding_Debt',\n",
    "                   'Credit_Utilization_Ratio', 'Delay_from_due_date','Total_EMI_per_month']\n",
    "\n",
    "for col_name in financial_cols:\n",
    "    print(f\"\\n=== {col_name} ===\")\n",
    "    df_financials.select(col_name).describe().show()\n"
   ]
  },
  {
   "cell_type": "markdown",
   "id": "2be54fd6",
   "metadata": {},
   "source": [
    "Process Silver Layer"
   ]
  },
  {
   "cell_type": "code",
   "execution_count": 74,
   "id": "c4d9b0bc",
   "metadata": {},
   "outputs": [],
   "source": [
    "silver_loan_daily_directory = 'datamart/silver/loan_daily/'\n",
    "silver_clickstream_directory = 'datamart/silver/clickstream/'\n",
    "silver_attributes_directory = 'datamart/silver/attributes/'\n",
    "silver_financials_directory = 'datamart/silver/financials/'\n",
    "\n",
    "for directory in [silver_loan_daily_directory, silver_clickstream_directory,\n",
    "                   silver_attributes_directory, silver_financials_directory]:\n",
    "    if not os.path.exists(directory):\n",
    "        os.makedirs(directory)"
   ]
  },
  {
   "cell_type": "code",
   "execution_count": 117,
   "id": "95446667",
   "metadata": {},
   "outputs": [
    {
     "data": {
      "text/plain": [
       "<module 'utils.silver_layer' from '/workspaces/Assignment 1/MLE_assignment1/utils/silver_layer.py'>"
      ]
     },
     "execution_count": 117,
     "metadata": {},
     "output_type": "execute_result"
    }
   ],
   "source": [
    "import importlib\n",
    "import utils.silver_layer\n",
    "importlib.reload(utils.silver_layer)"
   ]
  },
  {
   "cell_type": "code",
   "execution_count": 118,
   "id": "0b021cc7",
   "metadata": {},
   "outputs": [
    {
     "name": "stdout",
     "output_type": "stream",
     "text": [
      "loaded from: datamart/bronze/lms/bronze_attributes_daily_2023_01_01.csv rowcount: 530\n",
      "saved to: datamart/silver/attributes/silver_attributes_2023_01_01.parquet\n",
      "loaded from: datamart/bronze/lms/bronze_clickstream_daily_2023_01_01.csv row count: 8974\n"
     ]
    },
    {
     "name": "stderr",
     "output_type": "stream",
     "text": [
      "                                                                                \r"
     ]
    },
    {
     "name": "stdout",
     "output_type": "stream",
     "text": [
      "saved to: datamart/silver/clickstream/silver_clickstream_2023_01_01.parquet\n",
      "loaded from: datamart/bronze/lms/bronze_financials_daily_2023_01_01.csv\n",
      "saved to: datamart/silver/financials/silver_financials_2023_01_01.parquet\n",
      "loaded from: datamart/bronze/lms/bronze_loan_daily_2023_01_01.csv row count: 530\n"
     ]
    },
    {
     "name": "stderr",
     "output_type": "stream",
     "text": [
      "                                                                                \r"
     ]
    },
    {
     "name": "stdout",
     "output_type": "stream",
     "text": [
      "saved to: datamart/silver/loan_daily/silver_loan_daily_2023_01_01.parquet\n",
      "loaded from: datamart/bronze/lms/bronze_attributes_daily_2023_02_01.csv rowcount: 501\n",
      "saved to: datamart/silver/attributes/silver_attributes_2023_02_01.parquet\n",
      "loaded from: datamart/bronze/lms/bronze_clickstream_daily_2023_02_01.csv row count: 8974\n",
      "saved to: datamart/silver/clickstream/silver_clickstream_2023_02_01.parquet\n",
      "loaded from: datamart/bronze/lms/bronze_financials_daily_2023_02_01.csv\n",
      "saved to: datamart/silver/financials/silver_financials_2023_02_01.parquet\n",
      "loaded from: datamart/bronze/lms/bronze_loan_daily_2023_02_01.csv row count: 1031\n",
      "saved to: datamart/silver/loan_daily/silver_loan_daily_2023_02_01.parquet\n",
      "loaded from: datamart/bronze/lms/bronze_attributes_daily_2023_03_01.csv rowcount: 506\n",
      "saved to: datamart/silver/attributes/silver_attributes_2023_03_01.parquet\n",
      "loaded from: datamart/bronze/lms/bronze_clickstream_daily_2023_03_01.csv row count: 8974\n",
      "saved to: datamart/silver/clickstream/silver_clickstream_2023_03_01.parquet\n",
      "loaded from: datamart/bronze/lms/bronze_financials_daily_2023_03_01.csv\n",
      "saved to: datamart/silver/financials/silver_financials_2023_03_01.parquet\n",
      "loaded from: datamart/bronze/lms/bronze_loan_daily_2023_03_01.csv row count: 1537\n",
      "saved to: datamart/silver/loan_daily/silver_loan_daily_2023_03_01.parquet\n",
      "loaded from: datamart/bronze/lms/bronze_attributes_daily_2023_04_01.csv rowcount: 510\n",
      "saved to: datamart/silver/attributes/silver_attributes_2023_04_01.parquet\n",
      "loaded from: datamart/bronze/lms/bronze_clickstream_daily_2023_04_01.csv row count: 8974\n",
      "saved to: datamart/silver/clickstream/silver_clickstream_2023_04_01.parquet\n",
      "loaded from: datamart/bronze/lms/bronze_financials_daily_2023_04_01.csv\n",
      "saved to: datamart/silver/financials/silver_financials_2023_04_01.parquet\n",
      "loaded from: datamart/bronze/lms/bronze_loan_daily_2023_04_01.csv row count: 2047\n",
      "saved to: datamart/silver/loan_daily/silver_loan_daily_2023_04_01.parquet\n",
      "loaded from: datamart/bronze/lms/bronze_attributes_daily_2023_05_01.csv rowcount: 521\n",
      "saved to: datamart/silver/attributes/silver_attributes_2023_05_01.parquet\n",
      "loaded from: datamart/bronze/lms/bronze_clickstream_daily_2023_05_01.csv row count: 8974\n",
      "saved to: datamart/silver/clickstream/silver_clickstream_2023_05_01.parquet\n",
      "loaded from: datamart/bronze/lms/bronze_financials_daily_2023_05_01.csv\n",
      "saved to: datamart/silver/financials/silver_financials_2023_05_01.parquet\n",
      "loaded from: datamart/bronze/lms/bronze_loan_daily_2023_05_01.csv row count: 2568\n",
      "saved to: datamart/silver/loan_daily/silver_loan_daily_2023_05_01.parquet\n",
      "loaded from: datamart/bronze/lms/bronze_attributes_daily_2023_06_01.csv rowcount: 517\n",
      "saved to: datamart/silver/attributes/silver_attributes_2023_06_01.parquet\n",
      "loaded from: datamart/bronze/lms/bronze_clickstream_daily_2023_06_01.csv row count: 8974\n",
      "saved to: datamart/silver/clickstream/silver_clickstream_2023_06_01.parquet\n",
      "loaded from: datamart/bronze/lms/bronze_financials_daily_2023_06_01.csv\n",
      "saved to: datamart/silver/financials/silver_financials_2023_06_01.parquet\n",
      "loaded from: datamart/bronze/lms/bronze_loan_daily_2023_06_01.csv row count: 3085\n"
     ]
    },
    {
     "name": "stderr",
     "output_type": "stream",
     "text": [
      "                                                                                \r"
     ]
    },
    {
     "name": "stdout",
     "output_type": "stream",
     "text": [
      "saved to: datamart/silver/loan_daily/silver_loan_daily_2023_06_01.parquet\n",
      "loaded from: datamart/bronze/lms/bronze_attributes_daily_2023_07_01.csv rowcount: 471\n",
      "saved to: datamart/silver/attributes/silver_attributes_2023_07_01.parquet\n",
      "loaded from: datamart/bronze/lms/bronze_clickstream_daily_2023_07_01.csv row count: 8974\n"
     ]
    },
    {
     "name": "stderr",
     "output_type": "stream",
     "text": [
      "                                                                                \r"
     ]
    },
    {
     "name": "stdout",
     "output_type": "stream",
     "text": [
      "saved to: datamart/silver/clickstream/silver_clickstream_2023_07_01.parquet\n",
      "loaded from: datamart/bronze/lms/bronze_financials_daily_2023_07_01.csv\n",
      "saved to: datamart/silver/financials/silver_financials_2023_07_01.parquet\n",
      "loaded from: datamart/bronze/lms/bronze_loan_daily_2023_07_01.csv row count: 3556\n",
      "saved to: datamart/silver/loan_daily/silver_loan_daily_2023_07_01.parquet\n",
      "loaded from: datamart/bronze/lms/bronze_attributes_daily_2023_08_01.csv rowcount: 481\n",
      "saved to: datamart/silver/attributes/silver_attributes_2023_08_01.parquet\n",
      "loaded from: datamart/bronze/lms/bronze_clickstream_daily_2023_08_01.csv row count: 8974\n",
      "saved to: datamart/silver/clickstream/silver_clickstream_2023_08_01.parquet\n",
      "loaded from: datamart/bronze/lms/bronze_financials_daily_2023_08_01.csv\n",
      "saved to: datamart/silver/financials/silver_financials_2023_08_01.parquet\n",
      "loaded from: datamart/bronze/lms/bronze_loan_daily_2023_08_01.csv row count: 4037\n",
      "saved to: datamart/silver/loan_daily/silver_loan_daily_2023_08_01.parquet\n",
      "loaded from: datamart/bronze/lms/bronze_attributes_daily_2023_09_01.csv rowcount: 454\n"
     ]
    },
    {
     "name": "stderr",
     "output_type": "stream",
     "text": [
      "                                                                                \r"
     ]
    },
    {
     "name": "stdout",
     "output_type": "stream",
     "text": [
      "saved to: datamart/silver/attributes/silver_attributes_2023_09_01.parquet\n",
      "loaded from: datamart/bronze/lms/bronze_clickstream_daily_2023_09_01.csv row count: 8974\n",
      "saved to: datamart/silver/clickstream/silver_clickstream_2023_09_01.parquet\n",
      "loaded from: datamart/bronze/lms/bronze_financials_daily_2023_09_01.csv\n",
      "saved to: datamart/silver/financials/silver_financials_2023_09_01.parquet\n",
      "loaded from: datamart/bronze/lms/bronze_loan_daily_2023_09_01.csv row count: 4491\n",
      "saved to: datamart/silver/loan_daily/silver_loan_daily_2023_09_01.parquet\n",
      "loaded from: datamart/bronze/lms/bronze_attributes_daily_2023_10_01.csv rowcount: 487\n",
      "saved to: datamart/silver/attributes/silver_attributes_2023_10_01.parquet\n",
      "loaded from: datamart/bronze/lms/bronze_clickstream_daily_2023_10_01.csv row count: 8974\n",
      "saved to: datamart/silver/clickstream/silver_clickstream_2023_10_01.parquet\n",
      "loaded from: datamart/bronze/lms/bronze_financials_daily_2023_10_01.csv\n",
      "saved to: datamart/silver/financials/silver_financials_2023_10_01.parquet\n",
      "loaded from: datamart/bronze/lms/bronze_loan_daily_2023_10_01.csv row count: 4978\n",
      "saved to: datamart/silver/loan_daily/silver_loan_daily_2023_10_01.parquet\n",
      "loaded from: datamart/bronze/lms/bronze_attributes_daily_2023_11_01.csv rowcount: 491\n",
      "saved to: datamart/silver/attributes/silver_attributes_2023_11_01.parquet\n",
      "loaded from: datamart/bronze/lms/bronze_clickstream_daily_2023_11_01.csv row count: 8974\n",
      "saved to: datamart/silver/clickstream/silver_clickstream_2023_11_01.parquet\n",
      "loaded from: datamart/bronze/lms/bronze_financials_daily_2023_11_01.csv\n",
      "saved to: datamart/silver/financials/silver_financials_2023_11_01.parquet\n",
      "loaded from: datamart/bronze/lms/bronze_loan_daily_2023_11_01.csv row count: 5469\n",
      "saved to: datamart/silver/loan_daily/silver_loan_daily_2023_11_01.parquet\n",
      "loaded from: datamart/bronze/lms/bronze_attributes_daily_2023_12_01.csv rowcount: 489\n",
      "saved to: datamart/silver/attributes/silver_attributes_2023_12_01.parquet\n",
      "loaded from: datamart/bronze/lms/bronze_clickstream_daily_2023_12_01.csv row count: 8974\n",
      "saved to: datamart/silver/clickstream/silver_clickstream_2023_12_01.parquet\n",
      "loaded from: datamart/bronze/lms/bronze_financials_daily_2023_12_01.csv\n",
      "saved to: datamart/silver/financials/silver_financials_2023_12_01.parquet\n",
      "loaded from: datamart/bronze/lms/bronze_loan_daily_2023_12_01.csv row count: 5428\n",
      "saved to: datamart/silver/loan_daily/silver_loan_daily_2023_12_01.parquet\n",
      "loaded from: datamart/bronze/lms/bronze_attributes_daily_2024_01_01.csv rowcount: 485\n",
      "saved to: datamart/silver/attributes/silver_attributes_2024_01_01.parquet\n",
      "loaded from: datamart/bronze/lms/bronze_clickstream_daily_2024_01_01.csv row count: 8974\n",
      "saved to: datamart/silver/clickstream/silver_clickstream_2024_01_01.parquet\n",
      "loaded from: datamart/bronze/lms/bronze_financials_daily_2024_01_01.csv\n",
      "saved to: datamart/silver/financials/silver_financials_2024_01_01.parquet\n",
      "loaded from: datamart/bronze/lms/bronze_loan_daily_2024_01_01.csv row count: 5412\n",
      "saved to: datamart/silver/loan_daily/silver_loan_daily_2024_01_01.parquet\n",
      "loaded from: datamart/bronze/lms/bronze_attributes_daily_2024_02_01.csv rowcount: 518\n",
      "saved to: datamart/silver/attributes/silver_attributes_2024_02_01.parquet\n",
      "loaded from: datamart/bronze/lms/bronze_clickstream_daily_2024_02_01.csv row count: 8974\n",
      "saved to: datamart/silver/clickstream/silver_clickstream_2024_02_01.parquet\n",
      "loaded from: datamart/bronze/lms/bronze_financials_daily_2024_02_01.csv\n",
      "saved to: datamart/silver/financials/silver_financials_2024_02_01.parquet\n",
      "loaded from: datamart/bronze/lms/bronze_loan_daily_2024_02_01.csv row count: 5424\n"
     ]
    },
    {
     "name": "stderr",
     "output_type": "stream",
     "text": [
      "                                                                                \r"
     ]
    },
    {
     "name": "stdout",
     "output_type": "stream",
     "text": [
      "saved to: datamart/silver/loan_daily/silver_loan_daily_2024_02_01.parquet\n",
      "loaded from: datamart/bronze/lms/bronze_attributes_daily_2024_03_01.csv rowcount: 511\n",
      "saved to: datamart/silver/attributes/silver_attributes_2024_03_01.parquet\n",
      "loaded from: datamart/bronze/lms/bronze_clickstream_daily_2024_03_01.csv row count: 8974\n",
      "saved to: datamart/silver/clickstream/silver_clickstream_2024_03_01.parquet\n",
      "loaded from: datamart/bronze/lms/bronze_financials_daily_2024_03_01.csv\n",
      "saved to: datamart/silver/financials/silver_financials_2024_03_01.parquet\n",
      "loaded from: datamart/bronze/lms/bronze_loan_daily_2024_03_01.csv row count: 5425\n",
      "saved to: datamart/silver/loan_daily/silver_loan_daily_2024_03_01.parquet\n",
      "loaded from: datamart/bronze/lms/bronze_attributes_daily_2024_04_01.csv rowcount: 513\n",
      "saved to: datamart/silver/attributes/silver_attributes_2024_04_01.parquet\n",
      "loaded from: datamart/bronze/lms/bronze_clickstream_daily_2024_04_01.csv row count: 8974\n",
      "saved to: datamart/silver/clickstream/silver_clickstream_2024_04_01.parquet\n",
      "loaded from: datamart/bronze/lms/bronze_financials_daily_2024_04_01.csv\n",
      "saved to: datamart/silver/financials/silver_financials_2024_04_01.parquet\n",
      "loaded from: datamart/bronze/lms/bronze_loan_daily_2024_04_01.csv row count: 5417\n",
      "saved to: datamart/silver/loan_daily/silver_loan_daily_2024_04_01.parquet\n",
      "loaded from: datamart/bronze/lms/bronze_attributes_daily_2024_05_01.csv rowcount: 491\n",
      "saved to: datamart/silver/attributes/silver_attributes_2024_05_01.parquet\n",
      "loaded from: datamart/bronze/lms/bronze_clickstream_daily_2024_05_01.csv row count: 8974\n",
      "saved to: datamart/silver/clickstream/silver_clickstream_2024_05_01.parquet\n",
      "loaded from: datamart/bronze/lms/bronze_financials_daily_2024_05_01.csv\n",
      "saved to: datamart/silver/financials/silver_financials_2024_05_01.parquet\n",
      "loaded from: datamart/bronze/lms/bronze_loan_daily_2024_05_01.csv row count: 5391\n",
      "saved to: datamart/silver/loan_daily/silver_loan_daily_2024_05_01.parquet\n",
      "loaded from: datamart/bronze/lms/bronze_attributes_daily_2024_06_01.csv rowcount: 498\n",
      "saved to: datamart/silver/attributes/silver_attributes_2024_06_01.parquet\n",
      "loaded from: datamart/bronze/lms/bronze_clickstream_daily_2024_06_01.csv row count: 8974\n",
      "saved to: datamart/silver/clickstream/silver_clickstream_2024_06_01.parquet\n",
      "loaded from: datamart/bronze/lms/bronze_financials_daily_2024_06_01.csv\n"
     ]
    },
    {
     "name": "stderr",
     "output_type": "stream",
     "text": [
      "                                                                                \r"
     ]
    },
    {
     "name": "stdout",
     "output_type": "stream",
     "text": [
      "saved to: datamart/silver/financials/silver_financials_2024_06_01.parquet\n",
      "loaded from: datamart/bronze/lms/bronze_loan_daily_2024_06_01.csv row count: 5418\n",
      "saved to: datamart/silver/loan_daily/silver_loan_daily_2024_06_01.parquet\n",
      "loaded from: datamart/bronze/lms/bronze_attributes_daily_2024_07_01.csv rowcount: 505\n",
      "saved to: datamart/silver/attributes/silver_attributes_2024_07_01.parquet\n",
      "loaded from: datamart/bronze/lms/bronze_clickstream_daily_2024_07_01.csv row count: 8974\n"
     ]
    },
    {
     "name": "stderr",
     "output_type": "stream",
     "text": [
      "                                                                                \r"
     ]
    },
    {
     "name": "stdout",
     "output_type": "stream",
     "text": [
      "saved to: datamart/silver/clickstream/silver_clickstream_2024_07_01.parquet\n",
      "loaded from: datamart/bronze/lms/bronze_financials_daily_2024_07_01.csv\n",
      "saved to: datamart/silver/financials/silver_financials_2024_07_01.parquet\n",
      "loaded from: datamart/bronze/lms/bronze_loan_daily_2024_07_01.csv row count: 5442\n",
      "saved to: datamart/silver/loan_daily/silver_loan_daily_2024_07_01.parquet\n",
      "loaded from: datamart/bronze/lms/bronze_attributes_daily_2024_08_01.csv rowcount: 543\n"
     ]
    },
    {
     "name": "stderr",
     "output_type": "stream",
     "text": [
      "                                                                                \r"
     ]
    },
    {
     "name": "stdout",
     "output_type": "stream",
     "text": [
      "saved to: datamart/silver/attributes/silver_attributes_2024_08_01.parquet\n",
      "loaded from: datamart/bronze/lms/bronze_clickstream_daily_2024_08_01.csv row count: 8974\n",
      "saved to: datamart/silver/clickstream/silver_clickstream_2024_08_01.parquet\n",
      "loaded from: datamart/bronze/lms/bronze_financials_daily_2024_08_01.csv\n",
      "saved to: datamart/silver/financials/silver_financials_2024_08_01.parquet\n",
      "loaded from: datamart/bronze/lms/bronze_loan_daily_2024_08_01.csv row count: 5531\n"
     ]
    },
    {
     "name": "stderr",
     "output_type": "stream",
     "text": [
      "                                                                                \r"
     ]
    },
    {
     "name": "stdout",
     "output_type": "stream",
     "text": [
      "saved to: datamart/silver/loan_daily/silver_loan_daily_2024_08_01.parquet\n",
      "loaded from: datamart/bronze/lms/bronze_attributes_daily_2024_09_01.csv rowcount: 493\n"
     ]
    },
    {
     "name": "stderr",
     "output_type": "stream",
     "text": [
      "                                                                                \r"
     ]
    },
    {
     "name": "stdout",
     "output_type": "stream",
     "text": [
      "saved to: datamart/silver/attributes/silver_attributes_2024_09_01.parquet\n",
      "loaded from: datamart/bronze/lms/bronze_clickstream_daily_2024_09_01.csv row count: 8974\n"
     ]
    },
    {
     "name": "stderr",
     "output_type": "stream",
     "text": [
      "                                                                                \r"
     ]
    },
    {
     "name": "stdout",
     "output_type": "stream",
     "text": [
      "saved to: datamart/silver/clickstream/silver_clickstream_2024_09_01.parquet\n",
      "loaded from: datamart/bronze/lms/bronze_financials_daily_2024_09_01.csv\n",
      "saved to: datamart/silver/financials/silver_financials_2024_09_01.parquet\n",
      "loaded from: datamart/bronze/lms/bronze_loan_daily_2024_09_01.csv row count: 5537\n",
      "saved to: datamart/silver/loan_daily/silver_loan_daily_2024_09_01.parquet\n",
      "loaded from: datamart/bronze/lms/bronze_attributes_daily_2024_10_01.csv rowcount: 456\n",
      "saved to: datamart/silver/attributes/silver_attributes_2024_10_01.parquet\n",
      "loaded from: datamart/bronze/lms/bronze_clickstream_daily_2024_10_01.csv row count: 8974\n",
      "saved to: datamart/silver/clickstream/silver_clickstream_2024_10_01.parquet\n",
      "loaded from: datamart/bronze/lms/bronze_financials_daily_2024_10_01.csv\n",
      "saved to: datamart/silver/financials/silver_financials_2024_10_01.parquet\n",
      "loaded from: datamart/bronze/lms/bronze_loan_daily_2024_10_01.csv row count: 5502\n",
      "saved to: datamart/silver/loan_daily/silver_loan_daily_2024_10_01.parquet\n",
      "loaded from: datamart/bronze/lms/bronze_attributes_daily_2024_11_01.csv rowcount: 488\n",
      "saved to: datamart/silver/attributes/silver_attributes_2024_11_01.parquet\n",
      "loaded from: datamart/bronze/lms/bronze_clickstream_daily_2024_11_01.csv row count: 8974\n",
      "saved to: datamart/silver/clickstream/silver_clickstream_2024_11_01.parquet\n",
      "loaded from: datamart/bronze/lms/bronze_financials_daily_2024_11_01.csv\n"
     ]
    },
    {
     "name": "stderr",
     "output_type": "stream",
     "text": [
      "                                                                                \r"
     ]
    },
    {
     "name": "stdout",
     "output_type": "stream",
     "text": [
      "saved to: datamart/silver/financials/silver_financials_2024_11_01.parquet\n",
      "loaded from: datamart/bronze/lms/bronze_loan_daily_2024_11_01.csv row count: 5501\n"
     ]
    },
    {
     "name": "stderr",
     "output_type": "stream",
     "text": [
      "                                                                                \r"
     ]
    },
    {
     "name": "stdout",
     "output_type": "stream",
     "text": [
      "saved to: datamart/silver/loan_daily/silver_loan_daily_2024_11_01.parquet\n",
      "loaded from: datamart/bronze/lms/bronze_attributes_daily_2024_12_01.csv rowcount: 515\n",
      "saved to: datamart/silver/attributes/silver_attributes_2024_12_01.parquet\n",
      "loaded from: datamart/bronze/lms/bronze_clickstream_daily_2024_12_01.csv row count: 8974\n",
      "saved to: datamart/silver/clickstream/silver_clickstream_2024_12_01.parquet\n",
      "loaded from: datamart/bronze/lms/bronze_financials_daily_2024_12_01.csv\n"
     ]
    },
    {
     "name": "stderr",
     "output_type": "stream",
     "text": [
      "                                                                                \r"
     ]
    },
    {
     "name": "stdout",
     "output_type": "stream",
     "text": [
      "saved to: datamart/silver/financials/silver_financials_2024_12_01.parquet\n",
      "loaded from: datamart/bronze/lms/bronze_loan_daily_2024_12_01.csv row count: 5531\n",
      "saved to: datamart/silver/loan_daily/silver_loan_daily_2024_12_01.parquet\n",
      "loaded from: datamart/bronze/lms/bronze_attributes_daily_2025_01_01.csv rowcount: 526\n",
      "saved to: datamart/silver/attributes/silver_attributes_2025_01_01.parquet\n",
      "loaded from: datamart/bronze/lms/bronze_clickstream_daily_2025_01_01.csv row count: 0\n"
     ]
    },
    {
     "name": "stderr",
     "output_type": "stream",
     "text": [
      "                                                                                \r"
     ]
    },
    {
     "name": "stdout",
     "output_type": "stream",
     "text": [
      "saved to: datamart/silver/clickstream/silver_clickstream_2025_01_01.parquet\n",
      "loaded from: datamart/bronze/lms/bronze_financials_daily_2025_01_01.csv\n",
      "saved to: datamart/silver/financials/silver_financials_2025_01_01.parquet\n",
      "loaded from: datamart/bronze/lms/bronze_loan_daily_2025_01_01.csv row count: 5539\n",
      "saved to: datamart/silver/loan_daily/silver_loan_daily_2025_01_01.parquet\n"
     ]
    }
   ],
   "source": [
    "for date_str in dates_str_lst:\n",
    "    utils.silver_layer.process_silver_attributes_table(date_str,bronze_lms_directory,silver_attributes_directory,spark)\n",
    "    utils.silver_layer.process_silver_clickstream_table(date_str,bronze_lms_directory,silver_clickstream_directory,spark)\n",
    "    utils.silver_layer.process_silver_financials_table(date_str,bronze_lms_directory,silver_financials_directory,spark)\n",
    "    utils.silver_layer.process_silver_loan_table(date_str,bronze_lms_directory,silver_loan_daily_directory,spark)\n"
   ]
  },
  {
   "cell_type": "code",
   "execution_count": null,
   "id": "8c93ca48",
   "metadata": {},
   "outputs": [],
   "source": []
  }
 ],
 "metadata": {
  "kernelspec": {
   "display_name": "Python 3",
   "language": "python",
   "name": "python3"
  },
  "language_info": {
   "codemirror_mode": {
    "name": "ipython",
    "version": 3
   },
   "file_extension": ".py",
   "mimetype": "text/x-python",
   "name": "python",
   "nbconvert_exporter": "python",
   "pygments_lexer": "ipython3",
   "version": "3.12.1"
  }
 },
 "nbformat": 4,
 "nbformat_minor": 5
}
